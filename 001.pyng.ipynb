{
 "cells": [
  {
   "cell_type": "code",
   "execution_count": 6,
   "id": "d892f8d5",
   "metadata": {},
   "outputs": [],
   "source": [
    "\n",
    "import pyarrow.parquet as pq\n",
    "\n",
    "import matplotlib.pyplot as plt\n",
    "import numpy as np\n",
    "\n",
    "from sklearn import linear_model\n",
    "import itertools as it\n",
    "\n",
    "from copy import deepcopy\n",
    "%matplotlib inline\n",
    "\n",
    "import pandas as pd # handle the data\n",
    "from sklearn.model_selection import train_test_split # split the data\n",
    "\n",
    "from sklearn import metrics # evaluation metrics\n",
    "import seaborn as sns # plotting the data\n",
    "import matplotlib.pyplot as plt # plotting the data\n",
    "\n",
    "\n",
    "from sklearn.linear_model import LogisticRegression\n",
    "from sklearn.metrics import confusion_matrix\n",
    "from matplotlib.colors import ListedColormap\n",
    "\n",
    "from sklearn.model_selection import cross_val_score\n",
    "from sklearn.preprocessing import StandardScaler\n",
    "from sklearn.metrics import classification_report\n",
    "     "
   ]
  },
  {
   "cell_type": "code",
   "execution_count": 7,
   "id": "57753331",
   "metadata": {},
   "outputs": [],
   "source": [
    "import zipfile \n",
    "\n",
    "\n",
    "df =r'C:\\Users\\chand\\Downloads\\Structured_Data_Assignment  (1).zip\\Structured Data Assignment\\train.parquet'"
   ]
  },
  {
   "cell_type": "code",
   "execution_count": null,
   "id": "59c80f49",
   "metadata": {},
   "outputs": [],
   "source": [
    "df = pd.DataFrame(df)\n",
    "df1 = pd.DataFrame(df1)\n",
    "     "
   ]
  },
  {
   "cell_type": "code",
   "execution_count": null,
   "id": "d934aa11",
   "metadata": {},
   "outputs": [],
   "source": [
    "df = pd.get_dummies(df, columns=['Incident'])"
   ]
  },
  {
   "cell_type": "code",
   "execution_count": null,
   "id": "1fa8313f",
   "metadata": {},
   "outputs": [],
   "source": [
    "df.shape, df1.shape"
   ]
  },
  {
   "cell_type": "code",
   "execution_count": null,
   "id": "f1f1ea36",
   "metadata": {},
   "outputs": [],
   "source": [
    "\n",
    "df.isnull().sum(), df1.isnull().sum()"
   ]
  },
  {
   "cell_type": "code",
   "execution_count": null,
   "id": "736d246e",
   "metadata": {},
   "outputs": [],
   "source": [
    "df = df.drop_duplicates(); df1 = df1.drop_duplicates()"
   ]
  },
  {
   "cell_type": "code",
   "execution_count": null,
   "id": "45923f4f",
   "metadata": {},
   "outputs": [],
   "source": [
    "df.shape, df.shape"
   ]
  },
  {
   "cell_type": "code",
   "execution_count": null,
   "id": "cfae71ae",
   "metadata": {},
   "outputs": [],
   "source": [
    "df.nunique()"
   ]
  },
  {
   "cell_type": "code",
   "execution_count": null,
   "id": "613032a6",
   "metadata": {},
   "outputs": [],
   "source": [
    "df.dtypes, df1.dtypes"
   ]
  },
  {
   "cell_type": "code",
   "execution_count": null,
   "id": "e17d0ea4",
   "metadata": {},
   "outputs": [],
   "source": [
    "df.groupby('Patient-Uid').max()"
   ]
  },
  {
   "cell_type": "code",
   "execution_count": null,
   "id": "ca0ed32c",
   "metadata": {},
   "outputs": [],
   "source": [
    "df.sort_values(by = ['Date'], inplace=True)\n",
    "df"
   ]
  },
  {
   "cell_type": "code",
   "execution_count": null,
   "id": "16e8bf08",
   "metadata": {},
   "outputs": [],
   "source": [
    "sns.distplot(df['Date'].dropna(), kde=False, color='darkblue', bins=30)"
   ]
  },
  {
   "cell_type": "code",
   "execution_count": null,
   "id": "23911297",
   "metadata": {},
   "outputs": [],
   "source": [
    "df['Date'] = pd.to_datetime(df['Date'], format='%Y-%m-%d')\n",
    "filtered_df = df.loc[(df['Date'] >= '2020-09-01')\n",
    "                     & (df['Date'] < '2020-09-15')]\n",
    "filtered_df"
   ]
  },
  {
   "cell_type": "code",
   "execution_count": null,
   "id": "78017565",
   "metadata": {},
   "outputs": [],
   "source": [
    "train_data = filtered_df.copy()"
   ]
  },
  {
   "cell_type": "code",
   "execution_count": null,
   "id": "f504a895",
   "metadata": {},
   "outputs": [],
   "source": [
    "b = []\n",
    "for i in df.keys():\n",
    "  b.append(i)\n",
    "print(b)"
   ]
  },
  {
   "cell_type": "code",
   "execution_count": null,
   "id": "704f20d5",
   "metadata": {},
   "outputs": [],
   "source": [
    "\n",
    "b.remove('Patient-Uid')\n",
    "b.remove('Date')\n",
    "print(b)"
   ]
  },
  {
   "cell_type": "code",
   "execution_count": null,
   "id": "cc2bf04d",
   "metadata": {},
   "outputs": [],
   "source": [
    "df0 = df.iloc[2, :]\n",
    "df0"
   ]
  },
  {
   "cell_type": "code",
   "execution_count": null,
   "id": "011ce72b",
   "metadata": {},
   "outputs": [],
   "source": [
    "df['TARGET_DRUG'] = np.where(df[['Incident_DRUG_TYPE_0', 'Incident_DRUG_TYPE_1', 'Incident_DRUG_TYPE_10', 'Incident_DRUG_TYPE_11', 'Incident_DRUG_TYPE_12', 'Incident_DRUG_TYPE_13', 'Incident_DRUG_TYPE_14', 'Incident_DRUG_TYPE_15', 'Incident_DRUG_TYPE_16', 'Incident_DRUG_TYPE_17', 'Incident_DRUG_TYPE_18', 'Incident_DRUG_TYPE_2', 'Incident_DRUG_TYPE_3', 'Incident_DRUG_TYPE_4', 'Incident_DRUG_TYPE_5', 'Incident_DRUG_TYPE_6', 'Incident_DRUG_TYPE_7', 'Incident_DRUG_TYPE_8', 'Incident_DRUG_TYPE_9', 'Incident_PRIMARY_DIAGNOSIS', 'Incident_SYMPTOM_TYPE_0', 'Incident_SYMPTOM_TYPE_1', 'Incident_SYMPTOM_TYPE_10', 'Incident_SYMPTOM_TYPE_11', 'Incident_SYMPTOM_TYPE_12', 'Incident_SYMPTOM_TYPE_13', 'Incident_SYMPTOM_TYPE_14', 'Incident_SYMPTOM_TYPE_15', 'Incident_SYMPTOM_TYPE_16', 'Incident_SYMPTOM_TYPE_17', 'Incident_SYMPTOM_TYPE_18', 'Incident_SYMPTOM_TYPE_19', 'Incident_SYMPTOM_TYPE_2', 'Incident_SYMPTOM_TYPE_20', 'Incident_SYMPTOM_TYPE_21', 'Incident_SYMPTOM_TYPE_22', 'Incident_SYMPTOM_TYPE_23', 'Incident_SYMPTOM_TYPE_24', 'Incident_SYMPTOM_TYPE_25', 'Incident_SYMPTOM_TYPE_26', 'Incident_SYMPTOM_TYPE_27', 'Incident_SYMPTOM_TYPE_28', 'Incident_SYMPTOM_TYPE_29', 'Incident_SYMPTOM_TYPE_3', 'Incident_SYMPTOM_TYPE_4', 'Incident_SYMPTOM_TYPE_5', 'Incident_SYMPTOM_TYPE_6', 'Incident_SYMPTOM_TYPE_7', 'Incident_SYMPTOM_TYPE_8', 'Incident_SYMPTOM_TYPE_9', 'Incident_TARGET DRUG', 'Incident_TEST_TYPE_0', 'Incident_TEST_TYPE_1', 'Incident_TEST_TYPE_2', 'Incident_TEST_TYPE_3', 'Incident_TEST_TYPE_4', 'Incident_TEST_TYPE_5']] == 1, 0, 1)\n",
    "df"
   ]
  },
  {
   "cell_type": "code",
   "execution_count": null,
   "id": "2645834e",
   "metadata": {},
   "outputs": [],
   "source": [
    "df['TARGET_DRUG'].value_counts()"
   ]
  },
  {
   "cell_type": "code",
   "execution_count": null,
   "id": "68eff752",
   "metadata": {},
   "outputs": [],
   "source": [
    "target_1 = df[df['TARGET_DRUG'] == 1]\n",
    "target_0 = df[df['TARGET_DRUG'] == 0]"
   ]
  },
  {
   "cell_type": "code",
   "execution_count": null,
   "id": "8d139ec3",
   "metadata": {},
   "outputs": [],
   "source": [
    "\n",
    "print('Average Target Drug: ' + str(df['TARGET_DRUG'].mean()))\n",
    "print('Average Taken Target Drug: ' + str(target_1['TARGET_DRUG'].mean()))\n",
    "print('Average Not taking drug: ' + str(target_0['TARGET_DRUG'].mean()))\n",
    "print('\\n')"
   ]
  },
  {
   "cell_type": "code",
   "execution_count": null,
   "id": "6d0a8ff5",
   "metadata": {},
   "outputs": [],
   "source": [
    "conditions = [\n",
    "    (df['TARGET_DRUG'] == 1),\n",
    "    (df['TARGET_DRUG'] != 1)]\n",
    "\n",
    "# create a list of the values we want to assign for each condition\n",
    "values = [1, 0]\n",
    "\n",
    "# create a new column and use np.select to assign values to it using our lists as arguments\n",
    "df['label'] = np.select(conditions, values)\n",
    "\n",
    "# display updated DataFrame"
   ]
  },
  {
   "cell_type": "code",
   "execution_count": null,
   "id": "478664ba",
   "metadata": {},
   "outputs": [],
   "source": [
    "df_1 = df.drop(['LABEL','Date','TARGET_DRUG'], axis=1)"
   ]
  },
  {
   "cell_type": "code",
   "execution_count": null,
   "id": "4f62a4c6",
   "metadata": {},
   "outputs": [],
   "source": [
    "df_1.shape\n",
    "\n",
    "df_1.info()"
   ]
  },
  {
   "cell_type": "code",
   "execution_count": null,
   "id": "302275d0",
   "metadata": {},
   "outputs": [],
   "source": [
    "train_df = df_1.copy()"
   ]
  },
  {
   "cell_type": "code",
   "execution_count": null,
   "id": "1fc36b5d",
   "metadata": {},
   "outputs": [],
   "source": [
    "X = train_df.drop('Patient-Uid', axis=1)\n",
    "y = train_df['label']"
   ]
  },
  {
   "cell_type": "code",
   "execution_count": null,
   "id": "5c867f51",
   "metadata": {},
   "outputs": [],
   "source": [
    "def sigmoid(x):\n",
    "  return(1/(1 + np.exp(-x)))\n",
    "\n",
    "x_values_for_sigmoid = np.linspace(-10, 10)\n",
    "plt.figure(figsize=(8, 7))\n",
    "plt.plot(x_values_for_sigmoid, sigmoid(x_values_for_sigmoid), c='teal')\n",
    "plt.title('Sigmoid Function')\n",
    "plt.grid(True)\n",
    "plt.text(2, 0.3, r'\n",
    " \n",
    "', fontsize=26)\n",
    "plt.show()\n",
    "     "
   ]
  },
  {
   "cell_type": "code",
   "execution_count": null,
   "id": "17a5ecea",
   "metadata": {},
   "outputs": [],
   "source": [
    "logistic_regression = LogisticRegression() #initialise the required package\n",
    "logistic_regression.fit(X_train,y_train) #magic happens - best values of betas - training/learning happens here\n",
    "y_pred = logistic_regression.predict(X_test)\n",
    "\n",
    "logistic_regression.coef_"
   ]
  },
  {
   "cell_type": "code",
   "execution_count": null,
   "id": "750863f6",
   "metadata": {},
   "outputs": [],
   "source": [
    "logistic_regression.predict_proba(X_test)"
   ]
  },
  {
   "cell_type": "code",
   "execution_count": null,
   "id": "f3c80323",
   "metadata": {},
   "outputs": [],
   "source": [
    "logistic_regression.coef_"
   ]
  },
  {
   "cell_type": "code",
   "execution_count": null,
   "id": "70835347",
   "metadata": {},
   "outputs": [],
   "source": [
    "logistic_regression.intercept_"
   ]
  },
  {
   "cell_type": "code",
   "execution_count": null,
   "id": "e2b8ad1e",
   "metadata": {},
   "outputs": [],
   "source": []
  },
  {
   "cell_type": "code",
   "execution_count": null,
   "id": "6ab61878",
   "metadata": {},
   "outputs": [],
   "source": []
  },
  {
   "cell_type": "code",
   "execution_count": null,
   "id": "535d9647",
   "metadata": {},
   "outputs": [],
   "source": []
  }
 ],
 "metadata": {
  "kernelspec": {
   "display_name": "Python 3 (ipykernel)",
   "language": "python",
   "name": "python3"
  },
  "language_info": {
   "codemirror_mode": {
    "name": "ipython",
    "version": 3
   },
   "file_extension": ".py",
   "mimetype": "text/x-python",
   "name": "python",
   "nbconvert_exporter": "python",
   "pygments_lexer": "ipython3",
   "version": "3.11.3"
  }
 },
 "nbformat": 4,
 "nbformat_minor": 5
}
