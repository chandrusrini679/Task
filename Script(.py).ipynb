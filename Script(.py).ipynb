{
 "cells": [
  {
   "cell_type": "code",
   "execution_count": 1,
   "id": "36b41cee",
   "metadata": {},
   "outputs": [
    {
     "ename": "ModuleNotFoundError",
     "evalue": "No module named 'cv2'",
     "output_type": "error",
     "traceback": [
      "\u001b[1;31m---------------------------------------------------------------------------\u001b[0m",
      "\u001b[1;31mModuleNotFoundError\u001b[0m                       Traceback (most recent call last)",
      "Cell \u001b[1;32mIn[1], line 1\u001b[0m\n\u001b[1;32m----> 1\u001b[0m \u001b[38;5;28;01mimport\u001b[39;00m \u001b[38;5;21;01mcv2\u001b[39;00m\n\u001b[0;32m      2\u001b[0m \u001b[38;5;28;01mimport\u001b[39;00m \u001b[38;5;21;01mos\u001b[39;00m\n\u001b[0;32m      4\u001b[0m \u001b[38;5;28;01mdef\u001b[39;00m \u001b[38;5;21mget_output_image\u001b[39m(original_image_path: \u001b[38;5;28mstr\u001b[39m, fully_annotated_image_path: \u001b[38;5;28mstr\u001b[39m, partially_annotated_image_path: \u001b[38;5;28mstr\u001b[39m):\n\u001b[0;32m      5\u001b[0m     \u001b[38;5;66;03m# Load the original, fully annotated, and partially annotated images\u001b[39;00m\n",
      "\u001b[1;31mModuleNotFoundError\u001b[0m: No module named 'cv2'"
     ]
    }
   ],
   "source": [
    "import cv2\n",
    "import os\n",
    "\n",
    "def get_output_image(original_image_path: str, fully_annotated_image_path: str, partially_annotated_image_path: str):\n",
    "    \n",
    "    # Load the original, fully annotated, and partially annotated images\n",
    "    \n",
    "    original_image = cv2.imread(original_image_path)\n",
    "    fully_annotated_image = cv2.imread(fully_annotated_image_path)\n",
    "    partially_annotated_image = cv2.imread(partially_annotated_image_path)\n",
    "\n",
    "    \n",
    "    # Convert the images to grayscale\n",
    "    \n",
    "    original_gray = cv2.cvtColor(original_image, cv2.COLOR_BGR2GRAY)\n",
    "    fully_annotated_gray = cv2.cvtColor(fully_annotated_image, cv2.COLOR_BGR2GRAY)\n",
    "    partially_annotated_gray = cv2.cvtColor(partially_annotated_image, cv2.COLOR_BGR2GRAY)\n",
    "\n",
    "    \n",
    "    # Compute the difference between the fully annotated and partially annotated images\n",
    "    \n",
    "    diff = cv2.absdiff(fully_annotated_gray, partially_annotated_gray)\n",
    "\n",
    "    # Threshold the difference image to obtain a binary mask\n",
    "   \n",
    "_, mask = cv2.threshold(diff, 1, 255, cv2.THRESH_BINARY)\n",
    "\n",
    "    # Apply the mask to the original image to remove the unwanted annotations\n",
    "\n",
    "    deannotated_image = cv2.bitwise_and(original_image, original_image, mask=mask)\n",
    "\n",
    "   # Save the partially de-annotated image\n",
    "   \n",
    "    cv2.imwrite(partially_annotated_image_path, deannotated_image)\n"
   ]
  },
  {
   "cell_type": "code",
   "execution_count": null,
   "id": "2fcc8a00",
   "metadata": {},
   "outputs": [],
   "source": []
  }
 ],
 "metadata": {
  "kernelspec": {
   "display_name": "Python 3 (ipykernel)",
   "language": "python",
   "name": "python3"
  },
  "language_info": {
   "codemirror_mode": {
    "name": "ipython",
    "version": 3
   },
   "file_extension": ".py",
   "mimetype": "text/x-python",
   "name": "python",
   "nbconvert_exporter": "python",
   "pygments_lexer": "ipython3",
   "version": "3.11.3"
  }
 },
 "nbformat": 4,
 "nbformat_minor": 5
}
